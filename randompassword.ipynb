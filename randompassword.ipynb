{
 "cells": [
  {
   "cell_type": "code",
   "execution_count": null,
   "id": "f356d474",
   "metadata": {},
   "outputs": [
    {
     "name": "stdout",
     "output_type": "stream",
     "text": [
      "__________________________________________________________________\n",
      "input choice\n",
      " 1 => suggest password \n",
      " any other value to exit\n",
      "__________________________________________________________________\n",
      "choice1\n",
      "length of password with length between 6 to 1007\n",
      "\n",
      "#lt\"mv1\n",
      "__________________________________________________________________\n",
      "input choice\n",
      " 1 => suggest password \n",
      " any other value to exit\n",
      "__________________________________________________________________\n",
      "choice1\n",
      "length of password with length between 6 to 100-69\n",
      "Invalid length\n",
      " please try again\n",
      "__________________________________________________________________\n",
      "input choice\n",
      " 1 => suggest password \n",
      " any other value to exit\n",
      "__________________________________________________________________\n"
     ]
    }
   ],
   "source": [
    "import random\n",
    "import string\n",
    "def Generator(l):\n",
    "    passw=\"\"\n",
    "    list1 = string.ascii_letters+string.ascii_lowercase+string.ascii_uppercase+string.digits+string.punctuation\n",
    "    print()\n",
    "    for i in range (l):\n",
    "        passw+=random.choice(list1)\n",
    "    print(passw)\n",
    "c='1'\n",
    "while c=='1':\n",
    "    print(\"__________________________________________________________________\")\n",
    "    print(\"input choice\\n 1 => suggest password \\n any other value to exit\")\n",
    "    print(\"__________________________________________________________________\")\n",
    "    c=input(\"choice\")\n",
    "    l=int(input(\"length of password with length between 6 to 100\")) \n",
    "    if l<6 or l>100:\n",
    "        print (\"Invalid length\\n please try again\")\n",
    "    else:\n",
    "        Generator(l)\n",
    "    "
   ]
  },
  {
   "cell_type": "code",
   "execution_count": null,
   "id": "58dd3391",
   "metadata": {},
   "outputs": [],
   "source": []
  },
  {
   "cell_type": "code",
   "execution_count": null,
   "id": "49b5a0b5",
   "metadata": {},
   "outputs": [],
   "source": []
  }
 ],
 "metadata": {
  "kernelspec": {
   "display_name": "Python 3 (ipykernel)",
   "language": "python",
   "name": "python3"
  },
  "language_info": {
   "codemirror_mode": {
    "name": "ipython",
    "version": 3
   },
   "file_extension": ".py",
   "mimetype": "text/x-python",
   "name": "python",
   "nbconvert_exporter": "python",
   "pygments_lexer": "ipython3",
   "version": "3.8.10"
  }
 },
 "nbformat": 4,
 "nbformat_minor": 5
}
